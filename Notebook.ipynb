{
 "cells": [
  {
   "cell_type": "code",
   "source": "!pip install -r requirements.txt",
   "metadata": {
    "cell_id": "da3cc7f686374dcfac51e5b59ee1e7b1",
    "tags": [],
    "deepnote_to_be_reexecuted": false,
    "source_hash": "7958d4a9",
    "execution_start": 1669165919214,
    "execution_millis": 3053,
    "deepnote_cell_type": "code",
    "deepnote_cell_height": 414
   },
   "outputs": [
    {
     "name": "stdout",
     "text": "Requirement already satisfied: gTTS==2.2.4 in /root/venv/lib/python3.9/site-packages (from -r requirements.txt (line 1)) (2.2.4)\nRequirement already satisfied: playsound==1.3.0 in /root/venv/lib/python3.9/site-packages (from -r requirements.txt (line 2)) (1.3.0)\nRequirement already satisfied: pypinyin==0.46.0 in /root/venv/lib/python3.9/site-packages (from -r requirements.txt (line 3)) (0.46.0)\nRequirement already satisfied: pyttsx3==2.90 in /root/venv/lib/python3.9/site-packages (from -r requirements.txt (line 4)) (2.90)\nRequirement already satisfied: translate==3.6.1 in /root/venv/lib/python3.9/site-packages (from -r requirements.txt (line 5)) (3.6.1)\nRequirement already satisfied: requests in /shared-libs/python3.9/py/lib/python3.9/site-packages (from gTTS==2.2.4->-r requirements.txt (line 1)) (2.28.1)\nRequirement already satisfied: click in /shared-libs/python3.9/py/lib/python3.9/site-packages (from gTTS==2.2.4->-r requirements.txt (line 1)) (8.1.3)\nRequirement already satisfied: six in /shared-libs/python3.9/py-core/lib/python3.9/site-packages (from gTTS==2.2.4->-r requirements.txt (line 1)) (1.16.0)\nRequirement already satisfied: lxml in /shared-libs/python3.9/py/lib/python3.9/site-packages (from translate==3.6.1->-r requirements.txt (line 5)) (4.9.1)\nRequirement already satisfied: libretranslatepy==2.1.1 in /root/venv/lib/python3.9/site-packages (from translate==3.6.1->-r requirements.txt (line 5)) (2.1.1)\nRequirement already satisfied: certifi>=2017.4.17 in /shared-libs/python3.9/py/lib/python3.9/site-packages (from requests->gTTS==2.2.4->-r requirements.txt (line 1)) (2022.9.24)\nRequirement already satisfied: urllib3<1.27,>=1.21.1 in /shared-libs/python3.9/py/lib/python3.9/site-packages (from requests->gTTS==2.2.4->-r requirements.txt (line 1)) (1.26.12)\nRequirement already satisfied: charset-normalizer<3,>=2 in /shared-libs/python3.9/py-core/lib/python3.9/site-packages (from requests->gTTS==2.2.4->-r requirements.txt (line 1)) (2.1.1)\nRequirement already satisfied: idna<4,>=2.5 in /shared-libs/python3.9/py-core/lib/python3.9/site-packages (from requests->gTTS==2.2.4->-r requirements.txt (line 1)) (3.4)\n\u001b[33mWARNING: You are using pip version 22.0.4; however, version 22.3.1 is available.\nYou should consider upgrading via the '/root/venv/bin/python -m pip install --upgrade pip' command.\u001b[0m\u001b[33m\n\u001b[0m",
     "output_type": "stream"
    }
   ],
   "execution_count": 1
  },
  {
   "cell_type": "code",
   "source": "from eng2mand import english_to_chinese\nfrom mand2eng import chinese_to_english\n\ndef main(user_input_text, language):\n    while True: \n        user_inp = lower(str(user_input_text))\n        language_choix = \"english\"\n        if language.__eq__language_choix:\n            return english_to_chinese\n        else: \n            return chinese_to_english",
   "metadata": {
    "tags": [],
    "cell_id": "0ec593bb-d117-4970-afe0-27b2108c81e8",
    "deepnote_to_be_reexecuted": false,
    "source_hash": "b01c3d50",
    "execution_start": 1669165922275,
    "execution_millis": 1232,
    "deepnote_cell_type": "code",
    "deepnote_cell_height": 614
   },
   "execution_count": 2,
   "outputs": [
    {
     "name": "stderr",
     "text": "playsound is relying on another python subprocess. Please use `pip install pygobject` if you want playsound to run more efficiently.\n",
     "output_type": "stream"
    }
   ]
  },
  {
   "cell_type": "markdown",
   "source": "<a style='text-decoration:none;line-height:16px;display:flex;color:#5B5B62;padding:10px;justify-content:end;' href='https://deepnote.com?utm_source=created-in-deepnote-cell&projectId=c1d3ce2d-04e3-44dc-bf35-70fe2f8ebc1f' target=\"_blank\">\n<img alt='Created in deepnote.com' style='display:inline;max-height:16px;margin:0px;margin-right:7.5px;' src='data:image/svg+xml;base64,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' > </img>\nCreated in <span style='font-weight:600;margin-left:4px;'>Deepnote</span></a>",
   "metadata": {
    "tags": [],
    "created_in_deepnote_cell": true,
    "deepnote_cell_type": "markdown"
   }
  }
 ],
 "nbformat": 4,
 "nbformat_minor": 2,
 "metadata": {
  "orig_nbformat": 2,
  "deepnote": {},
  "deepnote_notebook_id": "8343621e-ba6d-4f41-a62a-06aa23ce54a6",
  "deepnote_execution_queue": []
 }
}